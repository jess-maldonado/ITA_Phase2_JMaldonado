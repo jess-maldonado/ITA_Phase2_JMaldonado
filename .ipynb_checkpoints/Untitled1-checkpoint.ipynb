{
 "cells": [
  {
   "cell_type": "code",
   "execution_count": 7,
   "metadata": {},
   "outputs": [
    {
     "name": "stdout",
     "output_type": "stream",
     "text": [
      "struct { Name string; Age int }\n",
      "{NanoDano 99}\n",
      "struct { Person struct { Name string; Age int }; Specialization string }\n",
      "{{NanoDano 99} Hacking}\n"
     ]
    }
   ],
   "source": [
    "import \"fmt\"\n",
    "import \"reflect\"\n",
    "\n",
    "   type Person struct {\n",
    "      Name string\n",
    "Age int }\n",
    "   type Doctor struct {\n",
    "      Person         Person\n",
    "      Specialization string\n",
    "}\n",
    "   func main() {\n",
    "      nanodano := Person{\n",
    "         Name: \"NanoDano\",\n",
    "Age: 99, }\n",
    "      drDano := Doctor{\n",
    "         Person:         nanodano,\n",
    "         Specialization: \"Hacking\",}\n",
    "      \n",
    "       fmt.Println(reflect.TypeOf(nanodano))\n",
    "      fmt.Println(nanodano)\n",
    "  \n",
    "        fmt.Println(reflect.TypeOf(drDano))\n",
    "      fmt.Println(drDano)\n",
    "   }\n",
    "\n",
    "main()"
   ]
  },
  {
   "cell_type": "code",
   "execution_count": null,
   "metadata": {},
   "outputs": [],
   "source": []
  }
 ],
 "metadata": {
  "kernelspec": {
   "display_name": "Go",
   "language": "go",
   "name": "gophernotes"
  },
  "language_info": {
   "codemirror_mode": "",
   "file_extension": ".go",
   "mimetype": "",
   "name": "go",
   "nbconvert_exporter": "",
   "pygments_lexer": "",
   "version": "go1.12.7"
  }
 },
 "nbformat": 4,
 "nbformat_minor": 2
}
